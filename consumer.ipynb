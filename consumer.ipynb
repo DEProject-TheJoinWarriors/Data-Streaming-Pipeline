{
 "cells": [
  {
   "cell_type": "code",
   "execution_count": 2,
   "metadata": {},
   "outputs": [
    {
     "name": "stdout",
     "output_type": "stream",
     "text": [
      "No message received during poll. Retrying...\n",
      "No message received during poll. Retrying...\n",
      "No message received during poll. Retrying...\n",
      "No message received during poll. Retrying...\n",
      "No message received during poll. Retrying...\n",
      "No message received during poll. Retrying...\n",
      "No message received during poll. Retrying...\n",
      "No message received during poll. Retrying...\n",
      "No message received during poll. Retrying...\n",
      "No message received during poll. Retrying...\n",
      "No message received during poll. Retrying...\n",
      "No message received during poll. Retrying...\n",
      "No message received during poll. Retrying...\n",
      "No message received during poll. Retrying...\n"
     ]
    },
    {
     "ename": "KeyboardInterrupt",
     "evalue": "",
     "output_type": "error",
     "traceback": [
      "\u001b[1;31m---------------------------------------------------------------------------\u001b[0m",
      "\u001b[1;31mKeyboardInterrupt\u001b[0m                         Traceback (most recent call last)",
      "Cell \u001b[1;32mIn[2], line 29\u001b[0m\n\u001b[0;32m     26\u001b[0m file_writer \u001b[38;5;241m=\u001b[39m \u001b[38;5;241m0\u001b[39m\n\u001b[0;32m     28\u001b[0m \u001b[38;5;28;01mwhile\u001b[39;00m \u001b[38;5;28;01mTrue\u001b[39;00m:\n\u001b[1;32m---> 29\u001b[0m     msg \u001b[38;5;241m=\u001b[39m \u001b[43mc\u001b[49m\u001b[38;5;241;43m.\u001b[39;49m\u001b[43mpoll\u001b[49m\u001b[43m(\u001b[49m\u001b[38;5;241;43m3.0\u001b[39;49m\u001b[43m)\u001b[49m\n\u001b[0;32m     31\u001b[0m     \u001b[38;5;28;01mif\u001b[39;00m msg \u001b[38;5;129;01mis\u001b[39;00m \u001b[38;5;28;01mNone\u001b[39;00m:\n\u001b[0;32m     32\u001b[0m         \u001b[38;5;28mprint\u001b[39m(\u001b[38;5;124m'\u001b[39m\u001b[38;5;124mNo message received during poll. Retrying...\u001b[39m\u001b[38;5;124m'\u001b[39m)\n",
      "\u001b[1;31mKeyboardInterrupt\u001b[0m: "
     ]
    }
   ],
   "source": [
    "from confluent_kafka import Consumer, Producer\n",
    "import json\n",
    "import random\n",
    "from copy import deepcopy\n",
    "\n",
    "# Kafka host and topic to match the producer\n",
    "kafka_host = \"localhost:9092\"\n",
    "kafka_topic = \"muhid\"  # Topic where messages are produced\n",
    "\n",
    "# Initialize the consumer with the correct configuration\n",
    "c = Consumer({\n",
    "    'bootstrap.servers': kafka_host,\n",
    "    'group.id': 'redset_stream',  # Static group ID\n",
    "    'auto.offset.reset': 'earliest',  # Start reading from the earliest available message\n",
    "    'debug': 'all'  # Enable all Kafka debugging logs\n",
    "})\n",
    "\n",
    "c.subscribe([kafka_topic])\n",
    "\n",
    "# Variables to calculate average\n",
    "tmp = 20\n",
    "v = 0\n",
    "prev_data = 0\n",
    "\n",
    "# msg_printed = 0\n",
    "# file_writer = 0\n",
    "\n",
    "while True:\n",
    "    msg = c.poll(3.0)\n",
    "\n",
    "    if msg is None:\n",
    "        print('No message received during poll. Retrying...')\n",
    "        continue\n",
    "    if msg.error():\n",
    "        print(f\"Consumer error: {msg.error()}\")\n",
    "        continue\n",
    "\n",
    "    try:\n",
    "        # Decode the message\n",
    "        message = msg.value().decode('utf-8')\n",
    "        # print(f\"Received message: {message}\")\n",
    "        \n",
    "        # Parse JSON\n",
    "        message_data = json.loads(message)\n",
    "        if prev_data == message_data:\n",
    "            # print(f\"Prev data same\")\n",
    "            pass\n",
    "        else:\n",
    "            # print(f\"Prev data NOT same!!!\")\n",
    "            pass\n",
    "\n",
    "        # # (don't remove) used to save and monitor batches\n",
    "        # if file_writer < 10:\n",
    "        #     with open(f\"../test_p_receive_batches/{file_writer}.txt\", \"w\") as f: \n",
    "        #         json.dump(message_data, f)\n",
    "        #         f.close()\n",
    "        #         file_writer += 1\n",
    "\n",
    "        # if msg_printed <= 2:\n",
    "        #     print(f\"Message columns: {len(message_data)}\")        \n",
    "        #     print(message)\n",
    "        #     msg_printed += 1\n",
    "        \n",
    "        prev_data = deepcopy(message_data)\n",
    "        # print(f\"Message rows: {len(message_data)}\")        \n",
    "        # print(f\"Parsed message: {message_data}\")\n",
    "\n",
    "    except Exception as e:\n",
    "        print(f\"Error processing message: {e}\")\n",
    "        continue\n",
    "\n",
    "# Clean up\n",
    "c.close()"
   ]
  },
  {
   "cell_type": "code",
   "execution_count": null,
   "metadata": {},
   "outputs": [],
   "source": []
  }
 ],
 "metadata": {
  "kernelspec": {
   "display_name": "Python 3",
   "language": "python",
   "name": "python3"
  },
  "language_info": {
   "codemirror_mode": {
    "name": "ipython",
    "version": 3
   },
   "file_extension": ".py",
   "mimetype": "text/x-python",
   "name": "python",
   "nbconvert_exporter": "python",
   "pygments_lexer": "ipython3",
   "version": "3.11.0"
  }
 },
 "nbformat": 4,
 "nbformat_minor": 2
}
