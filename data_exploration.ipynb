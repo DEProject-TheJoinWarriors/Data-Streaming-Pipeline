{
 "cells": [
  {
   "cell_type": "code",
   "execution_count": 1,
   "metadata": {},
   "outputs": [
    {
     "name": "stdout",
     "output_type": "stream",
     "text": [
      "instance_id                               int32\n",
      "cluster_size                            float64\n",
      "user_id                                   int64\n",
      "database_id                               int64\n",
      "query_id                                  int64\n",
      "arrival_timestamp                datetime64[us]\n",
      "compile_duration_ms                     float64\n",
      "queue_duration_ms                         int64\n",
      "execution_duration_ms                     int64\n",
      "feature_fingerprint                      object\n",
      "was_aborted                               int32\n",
      "was_cached                                int32\n",
      "cache_source_query_id                   float64\n",
      "query_type                               object\n",
      "num_permanent_tables_accessed           float64\n",
      "num_external_tables_accessed            float64\n",
      "num_system_tables_accessed              float64\n",
      "read_table_ids                           object\n",
      "write_table_ids                          object\n",
      "mbytes_scanned                          float64\n",
      "mbytes_spilled                          float64\n",
      "num_joins                                 int64\n",
      "num_scans                                 int64\n",
      "num_aggregations                          int64\n",
      "dtype: object\n"
     ]
    }
   ],
   "source": [
    "import pandas as pd\n",
    "\n",
    "# Read the Parquet file\n",
    "df = pd.read_parquet(\"full.parquet\")\n",
    "\n",
    "# View all columns and their data types\n",
    "print(df.dtypes)"
   ]
  },
  {
   "cell_type": "code",
   "execution_count": 8,
   "metadata": {},
   "outputs": [
    {
     "name": "stderr",
     "output_type": "stream",
     "text": [
      "Setting default log level to \"WARN\".\n",
      "To adjust logging level use sc.setLogLevel(newLevel). For SparkR, use setLogLevel(newLevel).\n",
      "25/01/22 17:04:57 WARN NativeCodeLoader: Unable to load native-hadoop library for your platform... using builtin-java classes where applicable\n"
     ]
    }
   ],
   "source": [
    "from pyspark.sql import SparkSession\n",
    "\n",
    "# Create Spark session\n",
    "spark = SparkSession.builder \\\n",
    "    .appName(\"ParquetFileExplorer\") \\\n",
    "    .getOrCreate()"
   ]
  },
  {
   "cell_type": "code",
   "execution_count": 9,
   "metadata": {},
   "outputs": [
    {
     "name": "stderr",
     "output_type": "stream",
     "text": [
      "                                                                                \r"
     ]
    }
   ],
   "source": [
    "# Load the Parquet file\n",
    "df = spark.read.parquet(\"full.parquet\")"
   ]
  },
  {
   "cell_type": "code",
   "execution_count": 10,
   "metadata": {},
   "outputs": [
    {
     "name": "stderr",
     "output_type": "stream",
     "text": [
      "                                                                                \r"
     ]
    },
    {
     "name": "stdout",
     "output_type": "stream",
     "text": [
      "+-----------+------------+-------+-----------+--------+--------------------+-------------------+-----------------+---------------------+--------------------+-----------+----------+---------------------+----------+-----------------------------+----------------------------+--------------------------+--------------------+---------------+--------------+--------------+---------+---------+----------------+\n",
      "|instance_id|cluster_size|user_id|database_id|query_id|   arrival_timestamp|compile_duration_ms|queue_duration_ms|execution_duration_ms| feature_fingerprint|was_aborted|was_cached|cache_source_query_id|query_type|num_permanent_tables_accessed|num_external_tables_accessed|num_system_tables_accessed|      read_table_ids|write_table_ids|mbytes_scanned|mbytes_spilled|num_joins|num_scans|num_aggregations|\n",
      "+-----------+------------+-------+-----------+--------+--------------------+-------------------+-----------------+---------------------+--------------------+-----------+----------+---------------------+----------+-----------------------------+----------------------------+--------------------------+--------------------+---------------+--------------+--------------+---------+---------+----------------+\n",
      "|          0|        NULL|      1|          0| 4241475|2024-02-29 23:59:...|             8265.0|                0|                 8281|42e3eae744df217d7...|          0|         0|                 NULL|    select|                          0.0|                         0.0|                      15.0|                NULL|           NULL|           0.0|           0.0|       22|        0|              23|\n",
      "|          0|        NULL|      1|          0| 3379841|2024-03-01 00:00:...|             8220.0|                0|                 8235|42e3eae744df217d7...|          0|         0|                 NULL|    select|                          0.0|                         0.0|                      15.0|                NULL|           NULL|           0.0|         175.0|       22|        0|              23|\n",
      "|          0|        NULL|      1|          0| 3352242|2024-03-01 00:00:...|             7940.0|                0|                 7956|42e3eae744df217d7...|          0|         0|                 NULL|    select|                          0.0|                         0.0|                      15.0|                NULL|           NULL|           0.0|           0.0|       22|        0|              23|\n",
      "|          0|        NULL|      1|          0| 4025600|2024-03-01 00:00:...|             8032.0|                0|                 8053|42e3eae744df217d7...|          0|         0|                 NULL|    select|                          0.0|                         0.0|                      15.0|                NULL|           NULL|           0.0|         176.0|       22|        0|              23|\n",
      "|          0|        NULL|      1|          0| 3572468|2024-03-01 00:00:...|             7158.0|                0|                 7201|42e3eae744df217d7...|          0|         0|                 NULL|    select|                          0.0|                         0.0|                      15.0|                NULL|           NULL|           0.0|          15.0|       22|        0|              23|\n",
      "|          0|        NULL|      1|          0| 4402278|2024-03-01 00:00:...|             7422.0|                0|                 7434|42e3eae744df217d7...|          0|         0|                 NULL|    select|                          0.0|                         0.0|                      15.0|                NULL|           NULL|           0.0|         436.0|       22|        0|              23|\n",
      "|          0|        NULL|      1|          0| 3799533|2024-03-01 00:00:...|             7926.0|                0|                 7940|42e3eae744df217d7...|          0|         0|                 NULL|    select|                          0.0|                         0.0|                      15.0|                NULL|           NULL|           0.0|         461.0|       22|        0|              23|\n",
      "|          0|        NULL|      2|          0| 3543217|2024-03-01 00:00:...|               36.0|                0|                   57|70df63125475c3014...|          0|         0|                 NULL|   analyze|                          0.0|                         0.0|                       0.0|                NULL|           NULL|         108.0|           0.0|        0|        0|               2|\n",
      "|          0|        NULL|      1|          0| 3870044|2024-03-01 00:00:...|             8019.0|                0|                 8065|42e3eae744df217d7...|          0|         0|                 NULL|    select|                          0.0|                         0.0|                      15.0|                NULL|           NULL|           0.0|         143.0|       22|        0|              23|\n",
      "|          0|        NULL|      2|          0| 4311766|2024-03-01 00:00:...|              163.0|                0|                  179|2337561c0fde6b270...|          0|         0|                 NULL|      ctas|                         83.0|                         0.0|                       0.0|                  26|         217207|         225.0|           0.0|        0|        1|               2|\n",
      "|          0|        NULL|      1|          0| 3569208|2024-03-01 00:00:...|             6370.0|                0|                 6397|42e3eae744df217d7...|          0|         0|                 NULL|    select|                          0.0|                         0.0|                      15.0|                NULL|           NULL|           0.0|         858.0|       22|        0|              23|\n",
      "|          0|        NULL|      2|          0| 2859999|2024-03-01 00:00:...|            21062.0|                0|                21104|41331be57ad20322f...|          0|         0|                 NULL|    select|                         76.0|                         0.0|                       0.0|201,212,213,214,2...|           NULL|       10117.0|         737.0|       11|       13|              15|\n",
      "|          0|        NULL|      1|          0| 3092640|2024-03-01 00:00:...|             7153.0|                0|                 7160|42e3eae744df217d7...|          0|         0|                 NULL|    select|                          0.0|                         0.0|                      15.0|                NULL|           NULL|           0.0|         855.0|       22|        0|              23|\n",
      "|          0|        NULL|      1|          0| 3597791|2024-03-01 00:00:...|            11681.0|                0|                11974|42e3eae744df217d7...|          0|         0|                 NULL|    select|                          0.0|                         0.0|                      15.0|                NULL|           NULL|           0.0|         578.0|       22|        0|              23|\n",
      "|          0|        NULL|      1|          0| 2919464|2024-03-01 00:00:...|             6854.0|                0|                 6865|42e3eae744df217d7...|          0|         0|                 NULL|    select|                          0.0|                         0.0|                      15.0|                NULL|           NULL|           0.0|         438.0|       22|        0|              23|\n",
      "|          0|        NULL|      1|          0| 3030978|2024-03-01 00:00:...|             6822.0|                0|                 6836|42e3eae744df217d7...|          0|         0|                 NULL|    select|                          0.0|                         0.0|                      15.0|                NULL|           NULL|           0.0|           1.0|       22|        0|              23|\n",
      "|          0|        NULL|      1|          0| 4170209|2024-03-01 00:00:...|             5984.0|                0|                 6046|42e3eae744df217d7...|          0|         0|                 NULL|    select|                          0.0|                         0.0|                      15.0|                NULL|           NULL|           0.0|           3.0|       22|        0|              23|\n",
      "|          0|        NULL|      1|          0| 4151755|2024-03-01 00:00:...|             5897.0|                0|                 5913|42e3eae744df217d7...|          0|         0|                 NULL|    select|                          0.0|                         0.0|                      15.0|                NULL|           NULL|           0.0|         309.0|       22|        0|              23|\n",
      "|          0|        NULL|      1|          0| 4441901|2024-03-01 00:00:...|             6514.0|                0|                 6530|42e3eae744df217d7...|          0|         0|                 NULL|    select|                          0.0|                         0.0|                      15.0|                NULL|           NULL|           0.0|           0.0|       22|        0|              23|\n",
      "|          0|        NULL|      1|          0| 3019843|2024-03-01 00:00:...|             5678.0|                0|                 5685|42e3eae744df217d7...|          0|         0|                 NULL|    select|                          0.0|                         0.0|                      15.0|                NULL|           NULL|           0.0|           0.0|       22|        0|              23|\n",
      "+-----------+------------+-------+-----------+--------+--------------------+-------------------+-----------------+---------------------+--------------------+-----------+----------+---------------------+----------+-----------------------------+----------------------------+--------------------------+--------------------+---------------+--------------+--------------+---------+---------+----------------+\n",
      "only showing top 20 rows\n",
      "\n"
     ]
    }
   ],
   "source": [
    "df.show(20)"
   ]
  },
  {
   "cell_type": "code",
   "execution_count": null,
   "metadata": {},
   "outputs": [],
   "source": []
  }
 ],
 "metadata": {
  "kernelspec": {
   "display_name": ".venv",
   "language": "python",
   "name": "python3"
  },
  "language_info": {
   "codemirror_mode": {
    "name": "ipython",
    "version": 3
   },
   "file_extension": ".py",
   "mimetype": "text/x-python",
   "name": "python",
   "nbconvert_exporter": "python",
   "pygments_lexer": "ipython3",
   "version": "3.11.10"
  }
 },
 "nbformat": 4,
 "nbformat_minor": 2
}
