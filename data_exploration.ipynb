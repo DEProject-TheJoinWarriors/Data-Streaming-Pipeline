{
 "cells": [
  {
   "cell_type": "code",
   "execution_count": 1,
   "metadata": {},
   "outputs": [
    {
     "name": "stdout",
     "output_type": "stream",
     "text": [
      "instance_id                               int32\n",
      "cluster_size                            float64\n",
      "user_id                                   int64\n",
      "database_id                               int64\n",
      "query_id                                  int64\n",
      "arrival_timestamp                datetime64[us]\n",
      "compile_duration_ms                     float64\n",
      "queue_duration_ms                         int64\n",
      "execution_duration_ms                     int64\n",
      "feature_fingerprint                      object\n",
      "was_aborted                               int32\n",
      "was_cached                                int32\n",
      "cache_source_query_id                   float64\n",
      "query_type                               object\n",
      "num_permanent_tables_accessed           float64\n",
      "num_external_tables_accessed            float64\n",
      "num_system_tables_accessed              float64\n",
      "read_table_ids                           object\n",
      "write_table_ids                          object\n",
      "mbytes_scanned                          float64\n",
      "mbytes_spilled                          float64\n",
      "num_joins                                 int64\n",
      "num_scans                                 int64\n",
      "num_aggregations                          int64\n",
      "dtype: object\n"
     ]
    }
   ],
   "source": [
    "import pandas as pd\n",
    "\n",
    "# Read the Parquet file\n",
    "df = pd.read_parquet(\"full.parquet\")\n",
    "\n",
    "# View all columns and their data types\n",
    "print(df.dtypes)"
   ]
  },
  {
   "cell_type": "code",
   "execution_count": null,
   "metadata": {},
   "outputs": [],
   "source": []
  }
 ],
 "metadata": {
  "kernelspec": {
   "display_name": ".venv",
   "language": "python",
   "name": "python3"
  },
  "language_info": {
   "codemirror_mode": {
    "name": "ipython",
    "version": 3
   },
   "file_extension": ".py",
   "mimetype": "text/x-python",
   "name": "python",
   "nbconvert_exporter": "python",
   "pygments_lexer": "ipython3",
   "version": "3.11.10"
  }
 },
 "nbformat": 4,
 "nbformat_minor": 2
}
