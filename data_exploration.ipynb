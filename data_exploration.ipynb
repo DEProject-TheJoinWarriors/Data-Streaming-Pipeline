{
 "cells": [
  {
   "cell_type": "code",
   "execution_count": 1,
   "metadata": {},
   "outputs": [
    {
     "name": "stdout",
     "output_type": "stream",
     "text": [
      "instance_id                               int32\n",
      "cluster_size                            float64\n",
      "user_id                                   int64\n",
      "database_id                               int64\n",
      "query_id                                  int64\n",
      "arrival_timestamp                datetime64[us]\n",
      "compile_duration_ms                     float64\n",
      "queue_duration_ms                         int64\n",
      "execution_duration_ms                     int64\n",
      "feature_fingerprint                      object\n",
      "was_aborted                               int32\n",
      "was_cached                                int32\n",
      "cache_source_query_id                   float64\n",
      "query_type                               object\n",
      "num_permanent_tables_accessed           float64\n",
      "num_external_tables_accessed            float64\n",
      "num_system_tables_accessed              float64\n",
      "read_table_ids                           object\n",
      "write_table_ids                          object\n",
      "mbytes_scanned                          float64\n",
      "mbytes_spilled                          float64\n",
      "num_joins                                 int64\n",
      "num_scans                                 int64\n",
      "num_aggregations                          int64\n",
      "dtype: object\n"
     ]
    }
   ],
   "source": [
    "import pandas as pd\n",
    "\n",
    "# Read the Parquet file\n",
    "df = pd.read_parquet(\"full.parquet\")\n",
    "\n",
    "# View all columns and their data types\n",
    "print(df.dtypes)"
   ]
  },
  {
   "cell_type": "code",
   "execution_count": 8,
   "metadata": {},
   "outputs": [
    {
     "name": "stderr",
     "output_type": "stream",
     "text": [
      "Setting default log level to \"WARN\".\n",
      "To adjust logging level use sc.setLogLevel(newLevel). For SparkR, use setLogLevel(newLevel).\n",
      "25/01/22 17:04:57 WARN NativeCodeLoader: Unable to load native-hadoop library for your platform... using builtin-java classes where applicable\n"
     ]
    }
   ],
   "source": [
    "from pyspark.sql import SparkSession\n",
    "\n",
    "# Create Spark session\n",
    "spark = SparkSession.builder \\\n",
    "    .appName(\"ParquetFileExplorer\") \\\n",
    "    .getOrCreate()"
   ]
  },
  {
   "cell_type": "code",
   "execution_count": 9,
   "metadata": {},
   "outputs": [
    {
     "name": "stderr",
     "output_type": "stream",
     "text": [
      "                                                                                \r"
     ]
    }
   ],
   "source": [
    "# Load the Parquet file\n",
    "df = spark.read.parquet(\"full.parquet\")"
   ]
  },
  {
   "cell_type": "code",
   "execution_count": 10,
   "metadata": {},
   "outputs": [
    {
     "name": "stderr",
     "output_type": "stream",
     "text": [
      "                                                                                \r"
     ]
    },
    {
     "name": "stdout",
     "output_type": "stream",
     "text": [
      "+-----------+------------+-------+-----------+--------+--------------------+-------------------+-----------------+---------------------+--------------------+-----------+----------+---------------------+----------+-----------------------------+----------------------------+--------------------------+--------------------+---------------+--------------+--------------+---------+---------+----------------+\n",
      "|instance_id|cluster_size|user_id|database_id|query_id|   arrival_timestamp|compile_duration_ms|queue_duration_ms|execution_duration_ms| feature_fingerprint|was_aborted|was_cached|cache_source_query_id|query_type|num_permanent_tables_accessed|num_external_tables_accessed|num_system_tables_accessed|      read_table_ids|write_table_ids|mbytes_scanned|mbytes_spilled|num_joins|num_scans|num_aggregations|\n",
      "+-----------+------------+-------+-----------+--------+--------------------+-------------------+-----------------+---------------------+--------------------+-----------+----------+---------------------+----------+-----------------------------+----------------------------+--------------------------+--------------------+---------------+--------------+--------------+---------+---------+----------------+\n",
      "|          0|        NULL|      1|          0| 4241475|2024-02-29 23:59:...|             8265.0|                0|                 8281|42e3eae744df217d7...|          0|         0|                 NULL|    select|                          0.0|                         0.0|                      15.0|                NULL|           NULL|           0.0|           0.0|       22|        0|              23|\n",
      "|          0|        NULL|      1|          0| 3379841|2024-03-01 00:00:...|             8220.0|                0|                 8235|42e3eae744df217d7...|          0|         0|                 NULL|    select|                          0.0|                         0.0|                      15.0|                NULL|           NULL|           0.0|         175.0|       22|        0|              23|\n",
      "|          0|        NULL|      1|          0| 3352242|2024-03-01 00:00:...|             7940.0|                0|                 7956|42e3eae744df217d7...|          0|         0|                 NULL|    select|                          0.0|                         0.0|                      15.0|                NULL|           NULL|           0.0|           0.0|       22|        0|              23|\n",
      "|          0|        NULL|      1|          0| 4025600|2024-03-01 00:00:...|             8032.0|                0|                 8053|42e3eae744df217d7...|          0|         0|                 NULL|    select|                          0.0|                         0.0|                      15.0|                NULL|           NULL|           0.0|         176.0|       22|        0|              23|\n",
      "|          0|        NULL|      1|          0| 3572468|2024-03-01 00:00:...|             7158.0|                0|                 7201|42e3eae744df217d7...|          0|         0|                 NULL|    select|                          0.0|                         0.0|                      15.0|                NULL|           NULL|           0.0|          15.0|       22|        0|              23|\n",
      "|          0|        NULL|      1|          0| 4402278|2024-03-01 00:00:...|             7422.0|                0|                 7434|42e3eae744df217d7...|          0|         0|                 NULL|    select|                          0.0|                         0.0|                      15.0|                NULL|           NULL|           0.0|         436.0|       22|        0|              23|\n",
      "|          0|        NULL|      1|          0| 3799533|2024-03-01 00:00:...|             7926.0|                0|                 7940|42e3eae744df217d7...|          0|         0|                 NULL|    select|                          0.0|                         0.0|                      15.0|                NULL|           NULL|           0.0|         461.0|       22|        0|              23|\n",
      "|          0|        NULL|      2|          0| 3543217|2024-03-01 00:00:...|               36.0|                0|                   57|70df63125475c3014...|          0|         0|                 NULL|   analyze|                          0.0|                         0.0|                       0.0|                NULL|           NULL|         108.0|           0.0|        0|        0|               2|\n",
      "|          0|        NULL|      1|          0| 3870044|2024-03-01 00:00:...|             8019.0|                0|                 8065|42e3eae744df217d7...|          0|         0|                 NULL|    select|                          0.0|                         0.0|                      15.0|                NULL|           NULL|           0.0|         143.0|       22|        0|              23|\n",
      "|          0|        NULL|      2|          0| 4311766|2024-03-01 00:00:...|              163.0|                0|                  179|2337561c0fde6b270...|          0|         0|                 NULL|      ctas|                         83.0|                         0.0|                       0.0|                  26|         217207|         225.0|           0.0|        0|        1|               2|\n",
      "|          0|        NULL|      1|          0| 3569208|2024-03-01 00:00:...|             6370.0|                0|                 6397|42e3eae744df217d7...|          0|         0|                 NULL|    select|                          0.0|                         0.0|                      15.0|                NULL|           NULL|           0.0|         858.0|       22|        0|              23|\n",
      "|          0|        NULL|      2|          0| 2859999|2024-03-01 00:00:...|            21062.0|                0|                21104|41331be57ad20322f...|          0|         0|                 NULL|    select|                         76.0|                         0.0|                       0.0|201,212,213,214,2...|           NULL|       10117.0|         737.0|       11|       13|              15|\n",
      "|          0|        NULL|      1|          0| 3092640|2024-03-01 00:00:...|             7153.0|                0|                 7160|42e3eae744df217d7...|          0|         0|                 NULL|    select|                          0.0|                         0.0|                      15.0|                NULL|           NULL|           0.0|         855.0|       22|        0|              23|\n",
      "|          0|        NULL|      1|          0| 3597791|2024-03-01 00:00:...|            11681.0|                0|                11974|42e3eae744df217d7...|          0|         0|                 NULL|    select|                          0.0|                         0.0|                      15.0|                NULL|           NULL|           0.0|         578.0|       22|        0|              23|\n",
      "|          0|        NULL|      1|          0| 2919464|2024-03-01 00:00:...|             6854.0|                0|                 6865|42e3eae744df217d7...|          0|         0|                 NULL|    select|                          0.0|                         0.0|                      15.0|                NULL|           NULL|           0.0|         438.0|       22|        0|              23|\n",
      "|          0|        NULL|      1|          0| 3030978|2024-03-01 00:00:...|             6822.0|                0|                 6836|42e3eae744df217d7...|          0|         0|                 NULL|    select|                          0.0|                         0.0|                      15.0|                NULL|           NULL|           0.0|           1.0|       22|        0|              23|\n",
      "|          0|        NULL|      1|          0| 4170209|2024-03-01 00:00:...|             5984.0|                0|                 6046|42e3eae744df217d7...|          0|         0|                 NULL|    select|                          0.0|                         0.0|                      15.0|                NULL|           NULL|           0.0|           3.0|       22|        0|              23|\n",
      "|          0|        NULL|      1|          0| 4151755|2024-03-01 00:00:...|             5897.0|                0|                 5913|42e3eae744df217d7...|          0|         0|                 NULL|    select|                          0.0|                         0.0|                      15.0|                NULL|           NULL|           0.0|         309.0|       22|        0|              23|\n",
      "|          0|        NULL|      1|          0| 4441901|2024-03-01 00:00:...|             6514.0|                0|                 6530|42e3eae744df217d7...|          0|         0|                 NULL|    select|                          0.0|                         0.0|                      15.0|                NULL|           NULL|           0.0|           0.0|       22|        0|              23|\n",
      "|          0|        NULL|      1|          0| 3019843|2024-03-01 00:00:...|             5678.0|                0|                 5685|42e3eae744df217d7...|          0|         0|                 NULL|    select|                          0.0|                         0.0|                      15.0|                NULL|           NULL|           0.0|           0.0|       22|        0|              23|\n",
      "+-----------+------------+-------+-----------+--------+--------------------+-------------------+-----------------+---------------------+--------------------+-----------+----------+---------------------+----------+-----------------------------+----------------------------+--------------------------+--------------------+---------------+--------------+--------------+---------+---------+----------------+\n",
      "only showing top 20 rows\n",
      "\n"
     ]
    }
   ],
   "source": [
    "df.show(20)"
   ]
  },
  {
   "cell_type": "code",
   "execution_count": 4,
   "metadata": {},
   "outputs": [
    {
     "name": "stdout",
     "output_type": "stream",
     "text": [
      "Broadcasting message: {'instance_id': 0, 'cluster_size': None, 'user_id': 1, 'database_id': 0, 'query_id': 4241475, 'arrival_timestamp': '2024-02-29T23:59:59.462678', 'compile_duration_ms': 8265.0, 'queue_duration_ms': 0, 'execution_duration_ms': 8281, 'feature_fingerprint': '42e3eae744df217d738077f11c29c7fe25d752f66229273a7eda9be6aa2c34d1', 'was_aborted': 0, 'was_cached': 0, 'cache_source_query_id': None, 'query_type': 'select', 'num_permanent_tables_accessed': 0.0, 'num_external_tables_accessed': 0.0, 'num_system_tables_accessed': 15.0, 'read_table_ids': None, 'write_table_ids': None, 'mbytes_scanned': 0.0, 'mbytes_spilled': 0.0, 'num_joins': 22, 'num_scans': 0, 'num_aggregations': 23}\n",
      "Broadcasting message: {'instance_id': 0, 'cluster_size': None, 'user_id': 1, 'database_id': 0, 'query_id': 3379841, 'arrival_timestamp': '2024-03-01T00:00:00.503618', 'compile_duration_ms': 8220.0, 'queue_duration_ms': 0, 'execution_duration_ms': 8235, 'feature_fingerprint': '42e3eae744df217d738077f11c29c7fe25d752f66229273a7eda9be6aa2c34d1', 'was_aborted': 0, 'was_cached': 0, 'cache_source_query_id': None, 'query_type': 'select', 'num_permanent_tables_accessed': 0.0, 'num_external_tables_accessed': 0.0, 'num_system_tables_accessed': 15.0, 'read_table_ids': None, 'write_table_ids': None, 'mbytes_scanned': 0.0, 'mbytes_spilled': 175.0, 'num_joins': 22, 'num_scans': 0, 'num_aggregations': 23}\n",
      "Broadcasting message: {'instance_id': 0, 'cluster_size': None, 'user_id': 1, 'database_id': 0, 'query_id': 3352242, 'arrival_timestamp': '2024-03-01T00:00:01.432177', 'compile_duration_ms': 7940.0, 'queue_duration_ms': 0, 'execution_duration_ms': 7956, 'feature_fingerprint': '42e3eae744df217d738077f11c29c7fe25d752f66229273a7eda9be6aa2c34d1', 'was_aborted': 0, 'was_cached': 0, 'cache_source_query_id': None, 'query_type': 'select', 'num_permanent_tables_accessed': 0.0, 'num_external_tables_accessed': 0.0, 'num_system_tables_accessed': 15.0, 'read_table_ids': None, 'write_table_ids': None, 'mbytes_scanned': 0.0, 'mbytes_spilled': 0.0, 'num_joins': 22, 'num_scans': 0, 'num_aggregations': 23}\n",
      "Broadcasting message: {'instance_id': 0, 'cluster_size': None, 'user_id': 1, 'database_id': 0, 'query_id': 4025600, 'arrival_timestamp': '2024-03-01T00:00:05.502624', 'compile_duration_ms': 8032.0, 'queue_duration_ms': 0, 'execution_duration_ms': 8053, 'feature_fingerprint': '42e3eae744df217d738077f11c29c7fe25d752f66229273a7eda9be6aa2c34d1', 'was_aborted': 0, 'was_cached': 0, 'cache_source_query_id': None, 'query_type': 'select', 'num_permanent_tables_accessed': 0.0, 'num_external_tables_accessed': 0.0, 'num_system_tables_accessed': 15.0, 'read_table_ids': None, 'write_table_ids': None, 'mbytes_scanned': 0.0, 'mbytes_spilled': 176.0, 'num_joins': 22, 'num_scans': 0, 'num_aggregations': 23}\n",
      "Broadcasting message: {'instance_id': 0, 'cluster_size': None, 'user_id': 1, 'database_id': 0, 'query_id': 3572468, 'arrival_timestamp': '2024-03-01T00:00:05.964802', 'compile_duration_ms': 7158.0, 'queue_duration_ms': 0, 'execution_duration_ms': 7201, 'feature_fingerprint': '42e3eae744df217d738077f11c29c7fe25d752f66229273a7eda9be6aa2c34d1', 'was_aborted': 0, 'was_cached': 0, 'cache_source_query_id': None, 'query_type': 'select', 'num_permanent_tables_accessed': 0.0, 'num_external_tables_accessed': 0.0, 'num_system_tables_accessed': 15.0, 'read_table_ids': None, 'write_table_ids': None, 'mbytes_scanned': 0.0, 'mbytes_spilled': 15.0, 'num_joins': 22, 'num_scans': 0, 'num_aggregations': 23}\n",
      "Broadcasting message: {'instance_id': 0, 'cluster_size': None, 'user_id': 1, 'database_id': 0, 'query_id': 4402278, 'arrival_timestamp': '2024-03-01T00:00:12.230378', 'compile_duration_ms': 7422.0, 'queue_duration_ms': 0, 'execution_duration_ms': 7434, 'feature_fingerprint': '42e3eae744df217d738077f11c29c7fe25d752f66229273a7eda9be6aa2c34d1', 'was_aborted': 0, 'was_cached': 0, 'cache_source_query_id': None, 'query_type': 'select', 'num_permanent_tables_accessed': 0.0, 'num_external_tables_accessed': 0.0, 'num_system_tables_accessed': 15.0, 'read_table_ids': None, 'write_table_ids': None, 'mbytes_scanned': 0.0, 'mbytes_spilled': 436.0, 'num_joins': 22, 'num_scans': 0, 'num_aggregations': 23}\n",
      "Broadcasting message: {'instance_id': 0, 'cluster_size': None, 'user_id': 1, 'database_id': 0, 'query_id': 3799533, 'arrival_timestamp': '2024-03-01T00:00:13.637563', 'compile_duration_ms': 7926.0, 'queue_duration_ms': 0, 'execution_duration_ms': 7940, 'feature_fingerprint': '42e3eae744df217d738077f11c29c7fe25d752f66229273a7eda9be6aa2c34d1', 'was_aborted': 0, 'was_cached': 0, 'cache_source_query_id': None, 'query_type': 'select', 'num_permanent_tables_accessed': 0.0, 'num_external_tables_accessed': 0.0, 'num_system_tables_accessed': 15.0, 'read_table_ids': None, 'write_table_ids': None, 'mbytes_scanned': 0.0, 'mbytes_spilled': 461.0, 'num_joins': 22, 'num_scans': 0, 'num_aggregations': 23}\n",
      "Broadcasting message: {'instance_id': 0, 'cluster_size': None, 'user_id': 2, 'database_id': 0, 'query_id': 3543217, 'arrival_timestamp': '2024-03-01T00:00:13.800211', 'compile_duration_ms': 36.0, 'queue_duration_ms': 0, 'execution_duration_ms': 57, 'feature_fingerprint': '70df63125475c30143b6ae0bb52a678f5083844c8416f535f2e9f404ed0716a3', 'was_aborted': 0, 'was_cached': 0, 'cache_source_query_id': None, 'query_type': 'analyze', 'num_permanent_tables_accessed': 0.0, 'num_external_tables_accessed': 0.0, 'num_system_tables_accessed': 0.0, 'read_table_ids': None, 'write_table_ids': None, 'mbytes_scanned': 108.0, 'mbytes_spilled': 0.0, 'num_joins': 0, 'num_scans': 0, 'num_aggregations': 2}\n",
      "Broadcasting message: {'instance_id': 0, 'cluster_size': None, 'user_id': 1, 'database_id': 0, 'query_id': 3870044, 'arrival_timestamp': '2024-03-01T00:00:16.702904', 'compile_duration_ms': 8019.0, 'queue_duration_ms': 0, 'execution_duration_ms': 8065, 'feature_fingerprint': '42e3eae744df217d738077f11c29c7fe25d752f66229273a7eda9be6aa2c34d1', 'was_aborted': 0, 'was_cached': 0, 'cache_source_query_id': None, 'query_type': 'select', 'num_permanent_tables_accessed': 0.0, 'num_external_tables_accessed': 0.0, 'num_system_tables_accessed': 15.0, 'read_table_ids': None, 'write_table_ids': None, 'mbytes_scanned': 0.0, 'mbytes_spilled': 143.0, 'num_joins': 22, 'num_scans': 0, 'num_aggregations': 23}\n",
      "Broadcasting message: {'instance_id': 0, 'cluster_size': None, 'user_id': 2, 'database_id': 0, 'query_id': 4311766, 'arrival_timestamp': '2024-03-01T00:00:17.129660', 'compile_duration_ms': 163.0, 'queue_duration_ms': 0, 'execution_duration_ms': 179, 'feature_fingerprint': '2337561c0fde6b27056ae846d83c221cd1b026f9a53b49844bc74cab510a7f61', 'was_aborted': 0, 'was_cached': 0, 'cache_source_query_id': None, 'query_type': 'ctas', 'num_permanent_tables_accessed': 83.0, 'num_external_tables_accessed': 0.0, 'num_system_tables_accessed': 0.0, 'read_table_ids': '26', 'write_table_ids': '217207', 'mbytes_scanned': 225.0, 'mbytes_spilled': 0.0, 'num_joins': 0, 'num_scans': 1, 'num_aggregations': 2}\n",
      "Broadcasting message: {'instance_id': 0, 'cluster_size': None, 'user_id': 1, 'database_id': 0, 'query_id': 3569208, 'arrival_timestamp': '2024-03-01T00:00:19.793420', 'compile_duration_ms': 6370.0, 'queue_duration_ms': 0, 'execution_duration_ms': 6397, 'feature_fingerprint': '42e3eae744df217d738077f11c29c7fe25d752f66229273a7eda9be6aa2c34d1', 'was_aborted': 0, 'was_cached': 0, 'cache_source_query_id': None, 'query_type': 'select', 'num_permanent_tables_accessed': 0.0, 'num_external_tables_accessed': 0.0, 'num_system_tables_accessed': 15.0, 'read_table_ids': None, 'write_table_ids': None, 'mbytes_scanned': 0.0, 'mbytes_spilled': 858.0, 'num_joins': 22, 'num_scans': 0, 'num_aggregations': 23}\n",
      "Broadcasting message: {'instance_id': 0, 'cluster_size': None, 'user_id': 2, 'database_id': 0, 'query_id': 2859999, 'arrival_timestamp': '2024-03-01T00:00:21.281245', 'compile_duration_ms': 21062.0, 'queue_duration_ms': 0, 'execution_duration_ms': 21104, 'feature_fingerprint': '41331be57ad20322fdcf8cca834488c2965f6c85b720c2cdc6d762a1c6832014', 'was_aborted': 0, 'was_cached': 0, 'cache_source_query_id': None, 'query_type': 'select', 'num_permanent_tables_accessed': 76.0, 'num_external_tables_accessed': 0.0, 'num_system_tables_accessed': 0.0, 'read_table_ids': '201,212,213,214,215,216,72,888,889', 'write_table_ids': None, 'mbytes_scanned': 10117.0, 'mbytes_spilled': 737.0, 'num_joins': 11, 'num_scans': 13, 'num_aggregations': 15}\n",
      "Broadcasting message: {'instance_id': 0, 'cluster_size': None, 'user_id': 1, 'database_id': 0, 'query_id': 3092640, 'arrival_timestamp': '2024-03-01T00:00:23.029629', 'compile_duration_ms': 7153.0, 'queue_duration_ms': 0, 'execution_duration_ms': 7160, 'feature_fingerprint': '42e3eae744df217d738077f11c29c7fe25d752f66229273a7eda9be6aa2c34d1', 'was_aborted': 0, 'was_cached': 0, 'cache_source_query_id': None, 'query_type': 'select', 'num_permanent_tables_accessed': 0.0, 'num_external_tables_accessed': 0.0, 'num_system_tables_accessed': 15.0, 'read_table_ids': None, 'write_table_ids': None, 'mbytes_scanned': 0.0, 'mbytes_spilled': 855.0, 'num_joins': 22, 'num_scans': 0, 'num_aggregations': 23}\n",
      "Broadcasting message: {'instance_id': 0, 'cluster_size': None, 'user_id': 1, 'database_id': 0, 'query_id': 3597791, 'arrival_timestamp': '2024-03-01T00:00:23.643784', 'compile_duration_ms': 11681.0, 'queue_duration_ms': 0, 'execution_duration_ms': 11974, 'feature_fingerprint': '42e3eae744df217d738077f11c29c7fe25d752f66229273a7eda9be6aa2c34d1', 'was_aborted': 0, 'was_cached': 0, 'cache_source_query_id': None, 'query_type': 'select', 'num_permanent_tables_accessed': 0.0, 'num_external_tables_accessed': 0.0, 'num_system_tables_accessed': 15.0, 'read_table_ids': None, 'write_table_ids': None, 'mbytes_scanned': 0.0, 'mbytes_spilled': 578.0, 'num_joins': 22, 'num_scans': 0, 'num_aggregations': 23}\n",
      "Broadcasting message: {'instance_id': 0, 'cluster_size': None, 'user_id': 1, 'database_id': 0, 'query_id': 2919464, 'arrival_timestamp': '2024-03-01T00:00:27.039404', 'compile_duration_ms': 6854.0, 'queue_duration_ms': 0, 'execution_duration_ms': 6865, 'feature_fingerprint': '42e3eae744df217d738077f11c29c7fe25d752f66229273a7eda9be6aa2c34d1', 'was_aborted': 0, 'was_cached': 0, 'cache_source_query_id': None, 'query_type': 'select', 'num_permanent_tables_accessed': 0.0, 'num_external_tables_accessed': 0.0, 'num_system_tables_accessed': 15.0, 'read_table_ids': None, 'write_table_ids': None, 'mbytes_scanned': 0.0, 'mbytes_spilled': 438.0, 'num_joins': 22, 'num_scans': 0, 'num_aggregations': 23}\n",
      "Broadcasting message: {'instance_id': 0, 'cluster_size': None, 'user_id': 1, 'database_id': 0, 'query_id': 3030978, 'arrival_timestamp': '2024-03-01T00:00:32.529210', 'compile_duration_ms': 6822.0, 'queue_duration_ms': 0, 'execution_duration_ms': 6836, 'feature_fingerprint': '42e3eae744df217d738077f11c29c7fe25d752f66229273a7eda9be6aa2c34d1', 'was_aborted': 0, 'was_cached': 0, 'cache_source_query_id': None, 'query_type': 'select', 'num_permanent_tables_accessed': 0.0, 'num_external_tables_accessed': 0.0, 'num_system_tables_accessed': 15.0, 'read_table_ids': None, 'write_table_ids': None, 'mbytes_scanned': 0.0, 'mbytes_spilled': 1.0, 'num_joins': 22, 'num_scans': 0, 'num_aggregations': 23}\n",
      "Broadcasting message: {'instance_id': 0, 'cluster_size': None, 'user_id': 1, 'database_id': 0, 'query_id': 4170209, 'arrival_timestamp': '2024-03-01T00:00:32.621445', 'compile_duration_ms': 5984.0, 'queue_duration_ms': 0, 'execution_duration_ms': 6046, 'feature_fingerprint': '42e3eae744df217d738077f11c29c7fe25d752f66229273a7eda9be6aa2c34d1', 'was_aborted': 0, 'was_cached': 0, 'cache_source_query_id': None, 'query_type': 'select', 'num_permanent_tables_accessed': 0.0, 'num_external_tables_accessed': 0.0, 'num_system_tables_accessed': 15.0, 'read_table_ids': None, 'write_table_ids': None, 'mbytes_scanned': 0.0, 'mbytes_spilled': 3.0, 'num_joins': 22, 'num_scans': 0, 'num_aggregations': 23}\n",
      "Broadcasting message: {'instance_id': 0, 'cluster_size': None, 'user_id': 1, 'database_id': 0, 'query_id': 4151755, 'arrival_timestamp': '2024-03-01T00:00:33.008708', 'compile_duration_ms': 5897.0, 'queue_duration_ms': 0, 'execution_duration_ms': 5913, 'feature_fingerprint': '42e3eae744df217d738077f11c29c7fe25d752f66229273a7eda9be6aa2c34d1', 'was_aborted': 0, 'was_cached': 0, 'cache_source_query_id': None, 'query_type': 'select', 'num_permanent_tables_accessed': 0.0, 'num_external_tables_accessed': 0.0, 'num_system_tables_accessed': 15.0, 'read_table_ids': None, 'write_table_ids': None, 'mbytes_scanned': 0.0, 'mbytes_spilled': 309.0, 'num_joins': 22, 'num_scans': 0, 'num_aggregations': 23}\n",
      "Broadcasting message: {'instance_id': 0, 'cluster_size': None, 'user_id': 1, 'database_id': 0, 'query_id': 4441901, 'arrival_timestamp': '2024-03-01T00:00:34.651979', 'compile_duration_ms': 6514.0, 'queue_duration_ms': 0, 'execution_duration_ms': 6530, 'feature_fingerprint': '42e3eae744df217d738077f11c29c7fe25d752f66229273a7eda9be6aa2c34d1', 'was_aborted': 0, 'was_cached': 0, 'cache_source_query_id': None, 'query_type': 'select', 'num_permanent_tables_accessed': 0.0, 'num_external_tables_accessed': 0.0, 'num_system_tables_accessed': 15.0, 'read_table_ids': None, 'write_table_ids': None, 'mbytes_scanned': 0.0, 'mbytes_spilled': 0.0, 'num_joins': 22, 'num_scans': 0, 'num_aggregations': 23}\n",
      "Broadcasting message: {'instance_id': 0, 'cluster_size': None, 'user_id': 1, 'database_id': 0, 'query_id': 3019843, 'arrival_timestamp': '2024-03-01T00:00:35.669465', 'compile_duration_ms': 5678.0, 'queue_duration_ms': 0, 'execution_duration_ms': 5685, 'feature_fingerprint': '42e3eae744df217d738077f11c29c7fe25d752f66229273a7eda9be6aa2c34d1', 'was_aborted': 0, 'was_cached': 0, 'cache_source_query_id': None, 'query_type': 'select', 'num_permanent_tables_accessed': 0.0, 'num_external_tables_accessed': 0.0, 'num_system_tables_accessed': 15.0, 'read_table_ids': None, 'write_table_ids': None, 'mbytes_scanned': 0.0, 'mbytes_spilled': 0.0, 'num_joins': 22, 'num_scans': 0, 'num_aggregations': 23}\n"
     ]
    }
   ],
   "source": [
    "from pyspark.sql import SparkSession\n",
    "from kafka import KafkaProducer\n",
    "import json\n",
    "from datetime import datetime\n",
    "import time\n",
    "\n",
    "# Function to convert row to JSON serializable format\n",
    "def row_to_dict(row):\n",
    "    row_dict = row.asDict()\n",
    "    for key, value in row_dict.items():\n",
    "        if isinstance(value, datetime):\n",
    "            row_dict[key] = value.isoformat()\n",
    "    return row_dict\n",
    "\n",
    "# Create Spark session\n",
    "spark = SparkSession.builder \\\n",
    "    .appName(\"KafkaPublisher\") \\\n",
    "    .getOrCreate()\n",
    "\n",
    "# Load your dataset into a Spark DataFrame\n",
    "df = spark.read.parquet(\"full.parquet\")\n",
    "\n",
    "# Initialize Kafka producer\n",
    "producer = KafkaProducer(\n",
    "    bootstrap_servers='localhost:9092',\n",
    "    value_serializer=lambda v: json.dumps(v).encode('utf-8')\n",
    ")\n",
    "\n",
    "# Continuously stream data\n",
    "while True:\n",
    "    # Select the first 20 rows\n",
    "    first_20_rows = df.limit(20).collect()\n",
    "\n",
    "    # Publish each row to Kafka\n",
    "    for row in first_20_rows:\n",
    "        message = row_to_dict(row)\n",
    "        print(f\"Broadcasting message: {message}\")\n",
    "        producer.send('sagnik', message)\n",
    "\n",
    "    # Sleep for a while before sending the next batch\n",
    "    time.sleep(5)\n",
    "    break\n",
    "\n",
    "# Close the producer (this will never be reached in this infinite loop)\n",
    "producer.flush()\n",
    "producer.close()"
   ]
  },
  {
   "cell_type": "code",
   "execution_count": null,
   "metadata": {},
   "outputs": [],
   "source": []
  }
 ],
 "metadata": {
  "kernelspec": {
   "display_name": ".venv",
   "language": "python",
   "name": "python3"
  },
  "language_info": {
   "codemirror_mode": {
    "name": "ipython",
    "version": 3
   },
   "file_extension": ".py",
   "mimetype": "text/x-python",
   "name": "python",
   "nbconvert_exporter": "python",
   "pygments_lexer": "ipython3",
   "version": "3.11.10"
  }
 },
 "nbformat": 4,
 "nbformat_minor": 2
}
